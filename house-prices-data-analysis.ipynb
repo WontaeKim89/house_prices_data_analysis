{
 "cells": [
  {
   "cell_type": "code",
   "execution_count": 1,
   "metadata": {},
   "outputs": [],
   "source": [
    "import pandas as pd\n",
    "import numpy as np\n",
    "import matplotlib.pyplot as plt\n",
    "import seaborn as sns\n",
    "%matplotlib inline"
   ]
  },
  {
   "cell_type": "markdown",
   "metadata": {},
   "source": [
    "## Data set road"
   ]
  },
  {
   "cell_type": "code",
   "execution_count": 2,
   "metadata": {},
   "outputs": [
    {
     "data": {
      "text/plain": [
       "'/Users/kim-wontae/Desktop/deschool/data/house-prices-advanced-regression-techniques'"
      ]
     },
     "execution_count": 2,
     "metadata": {},
     "output_type": "execute_result"
    }
   ],
   "source": [
    "pwd"
   ]
  },
  {
   "cell_type": "code",
   "execution_count": 3,
   "metadata": {},
   "outputs": [
    {
     "name": "stdout",
     "output_type": "stream",
     "text": [
      "(1460, 81)\n",
      "                Id   MSSubClass  LotFrontage        LotArea  OverallQual  \\\n",
      "count  1460.000000  1460.000000  1201.000000    1460.000000  1460.000000   \n",
      "mean    730.500000    56.897260    70.049958   10516.828082     6.099315   \n",
      "std     421.610009    42.300571    24.284752    9981.264932     1.382997   \n",
      "min       1.000000    20.000000    21.000000    1300.000000     1.000000   \n",
      "25%     365.750000    20.000000    59.000000    7553.500000     5.000000   \n",
      "50%     730.500000    50.000000    69.000000    9478.500000     6.000000   \n",
      "75%    1095.250000    70.000000    80.000000   11601.500000     7.000000   \n",
      "max    1460.000000   190.000000   313.000000  215245.000000    10.000000   \n",
      "\n",
      "       OverallCond    YearBuilt  YearRemodAdd   MasVnrArea   BsmtFinSF1  ...  \\\n",
      "count  1460.000000  1460.000000   1460.000000  1452.000000  1460.000000  ...   \n",
      "mean      5.575342  1971.267808   1984.865753   103.685262   443.639726  ...   \n",
      "std       1.112799    30.202904     20.645407   181.066207   456.098091  ...   \n",
      "min       1.000000  1872.000000   1950.000000     0.000000     0.000000  ...   \n",
      "25%       5.000000  1954.000000   1967.000000     0.000000     0.000000  ...   \n",
      "50%       5.000000  1973.000000   1994.000000     0.000000   383.500000  ...   \n",
      "75%       6.000000  2000.000000   2004.000000   166.000000   712.250000  ...   \n",
      "max       9.000000  2010.000000   2010.000000  1600.000000  5644.000000  ...   \n",
      "\n",
      "        WoodDeckSF  OpenPorchSF  EnclosedPorch    3SsnPorch  ScreenPorch  \\\n",
      "count  1460.000000  1460.000000    1460.000000  1460.000000  1460.000000   \n",
      "mean     94.244521    46.660274      21.954110     3.409589    15.060959   \n",
      "std     125.338794    66.256028      61.119149    29.317331    55.757415   \n",
      "min       0.000000     0.000000       0.000000     0.000000     0.000000   \n",
      "25%       0.000000     0.000000       0.000000     0.000000     0.000000   \n",
      "50%       0.000000    25.000000       0.000000     0.000000     0.000000   \n",
      "75%     168.000000    68.000000       0.000000     0.000000     0.000000   \n",
      "max     857.000000   547.000000     552.000000   508.000000   480.000000   \n",
      "\n",
      "          PoolArea       MiscVal       MoSold       YrSold      SalePrice  \n",
      "count  1460.000000   1460.000000  1460.000000  1460.000000    1460.000000  \n",
      "mean      2.758904     43.489041     6.321918  2007.815753  180921.195890  \n",
      "std      40.177307    496.123024     2.703626     1.328095   79442.502883  \n",
      "min       0.000000      0.000000     1.000000  2006.000000   34900.000000  \n",
      "25%       0.000000      0.000000     5.000000  2007.000000  129975.000000  \n",
      "50%       0.000000      0.000000     6.000000  2008.000000  163000.000000  \n",
      "75%       0.000000      0.000000     8.000000  2009.000000  214000.000000  \n",
      "max     738.000000  15500.000000    12.000000  2010.000000  755000.000000  \n",
      "\n",
      "[8 rows x 38 columns]\n"
     ]
    },
    {
     "data": {
      "text/html": [
       "<div>\n",
       "<style scoped>\n",
       "    .dataframe tbody tr th:only-of-type {\n",
       "        vertical-align: middle;\n",
       "    }\n",
       "\n",
       "    .dataframe tbody tr th {\n",
       "        vertical-align: top;\n",
       "    }\n",
       "\n",
       "    .dataframe thead th {\n",
       "        text-align: right;\n",
       "    }\n",
       "</style>\n",
       "<table border=\"1\" class=\"dataframe\">\n",
       "  <thead>\n",
       "    <tr style=\"text-align: right;\">\n",
       "      <th></th>\n",
       "      <th>Id</th>\n",
       "      <th>MSSubClass</th>\n",
       "      <th>MSZoning</th>\n",
       "      <th>LotFrontage</th>\n",
       "      <th>LotArea</th>\n",
       "      <th>Street</th>\n",
       "      <th>Alley</th>\n",
       "      <th>LotShape</th>\n",
       "      <th>LandContour</th>\n",
       "      <th>Utilities</th>\n",
       "      <th>...</th>\n",
       "      <th>PoolArea</th>\n",
       "      <th>PoolQC</th>\n",
       "      <th>Fence</th>\n",
       "      <th>MiscFeature</th>\n",
       "      <th>MiscVal</th>\n",
       "      <th>MoSold</th>\n",
       "      <th>YrSold</th>\n",
       "      <th>SaleType</th>\n",
       "      <th>SaleCondition</th>\n",
       "      <th>SalePrice</th>\n",
       "    </tr>\n",
       "  </thead>\n",
       "  <tbody>\n",
       "    <tr>\n",
       "      <th>0</th>\n",
       "      <td>1</td>\n",
       "      <td>60</td>\n",
       "      <td>RL</td>\n",
       "      <td>65.0</td>\n",
       "      <td>8450</td>\n",
       "      <td>Pave</td>\n",
       "      <td>NaN</td>\n",
       "      <td>Reg</td>\n",
       "      <td>Lvl</td>\n",
       "      <td>AllPub</td>\n",
       "      <td>...</td>\n",
       "      <td>0</td>\n",
       "      <td>NaN</td>\n",
       "      <td>NaN</td>\n",
       "      <td>NaN</td>\n",
       "      <td>0</td>\n",
       "      <td>2</td>\n",
       "      <td>2008</td>\n",
       "      <td>WD</td>\n",
       "      <td>Normal</td>\n",
       "      <td>208500</td>\n",
       "    </tr>\n",
       "    <tr>\n",
       "      <th>1</th>\n",
       "      <td>2</td>\n",
       "      <td>20</td>\n",
       "      <td>RL</td>\n",
       "      <td>80.0</td>\n",
       "      <td>9600</td>\n",
       "      <td>Pave</td>\n",
       "      <td>NaN</td>\n",
       "      <td>Reg</td>\n",
       "      <td>Lvl</td>\n",
       "      <td>AllPub</td>\n",
       "      <td>...</td>\n",
       "      <td>0</td>\n",
       "      <td>NaN</td>\n",
       "      <td>NaN</td>\n",
       "      <td>NaN</td>\n",
       "      <td>0</td>\n",
       "      <td>5</td>\n",
       "      <td>2007</td>\n",
       "      <td>WD</td>\n",
       "      <td>Normal</td>\n",
       "      <td>181500</td>\n",
       "    </tr>\n",
       "    <tr>\n",
       "      <th>2</th>\n",
       "      <td>3</td>\n",
       "      <td>60</td>\n",
       "      <td>RL</td>\n",
       "      <td>68.0</td>\n",
       "      <td>11250</td>\n",
       "      <td>Pave</td>\n",
       "      <td>NaN</td>\n",
       "      <td>IR1</td>\n",
       "      <td>Lvl</td>\n",
       "      <td>AllPub</td>\n",
       "      <td>...</td>\n",
       "      <td>0</td>\n",
       "      <td>NaN</td>\n",
       "      <td>NaN</td>\n",
       "      <td>NaN</td>\n",
       "      <td>0</td>\n",
       "      <td>9</td>\n",
       "      <td>2008</td>\n",
       "      <td>WD</td>\n",
       "      <td>Normal</td>\n",
       "      <td>223500</td>\n",
       "    </tr>\n",
       "    <tr>\n",
       "      <th>3</th>\n",
       "      <td>4</td>\n",
       "      <td>70</td>\n",
       "      <td>RL</td>\n",
       "      <td>60.0</td>\n",
       "      <td>9550</td>\n",
       "      <td>Pave</td>\n",
       "      <td>NaN</td>\n",
       "      <td>IR1</td>\n",
       "      <td>Lvl</td>\n",
       "      <td>AllPub</td>\n",
       "      <td>...</td>\n",
       "      <td>0</td>\n",
       "      <td>NaN</td>\n",
       "      <td>NaN</td>\n",
       "      <td>NaN</td>\n",
       "      <td>0</td>\n",
       "      <td>2</td>\n",
       "      <td>2006</td>\n",
       "      <td>WD</td>\n",
       "      <td>Abnorml</td>\n",
       "      <td>140000</td>\n",
       "    </tr>\n",
       "    <tr>\n",
       "      <th>4</th>\n",
       "      <td>5</td>\n",
       "      <td>60</td>\n",
       "      <td>RL</td>\n",
       "      <td>84.0</td>\n",
       "      <td>14260</td>\n",
       "      <td>Pave</td>\n",
       "      <td>NaN</td>\n",
       "      <td>IR1</td>\n",
       "      <td>Lvl</td>\n",
       "      <td>AllPub</td>\n",
       "      <td>...</td>\n",
       "      <td>0</td>\n",
       "      <td>NaN</td>\n",
       "      <td>NaN</td>\n",
       "      <td>NaN</td>\n",
       "      <td>0</td>\n",
       "      <td>12</td>\n",
       "      <td>2008</td>\n",
       "      <td>WD</td>\n",
       "      <td>Normal</td>\n",
       "      <td>250000</td>\n",
       "    </tr>\n",
       "  </tbody>\n",
       "</table>\n",
       "<p>5 rows × 81 columns</p>\n",
       "</div>"
      ],
      "text/plain": [
       "   Id  MSSubClass MSZoning  LotFrontage  LotArea Street Alley LotShape  \\\n",
       "0   1          60       RL         65.0     8450   Pave   NaN      Reg   \n",
       "1   2          20       RL         80.0     9600   Pave   NaN      Reg   \n",
       "2   3          60       RL         68.0    11250   Pave   NaN      IR1   \n",
       "3   4          70       RL         60.0     9550   Pave   NaN      IR1   \n",
       "4   5          60       RL         84.0    14260   Pave   NaN      IR1   \n",
       "\n",
       "  LandContour Utilities  ... PoolArea PoolQC Fence MiscFeature MiscVal MoSold  \\\n",
       "0         Lvl    AllPub  ...        0    NaN   NaN         NaN       0      2   \n",
       "1         Lvl    AllPub  ...        0    NaN   NaN         NaN       0      5   \n",
       "2         Lvl    AllPub  ...        0    NaN   NaN         NaN       0      9   \n",
       "3         Lvl    AllPub  ...        0    NaN   NaN         NaN       0      2   \n",
       "4         Lvl    AllPub  ...        0    NaN   NaN         NaN       0     12   \n",
       "\n",
       "  YrSold  SaleType  SaleCondition  SalePrice  \n",
       "0   2008        WD         Normal     208500  \n",
       "1   2007        WD         Normal     181500  \n",
       "2   2008        WD         Normal     223500  \n",
       "3   2006        WD        Abnorml     140000  \n",
       "4   2008        WD         Normal     250000  \n",
       "\n",
       "[5 rows x 81 columns]"
      ]
     },
     "execution_count": 3,
     "metadata": {},
     "output_type": "execute_result"
    }
   ],
   "source": [
    "train = pd.read_csv(\"/Users/kim-wontae/Desktop/deschool/data/house-prices-advanced-regression-techniques/train.csv\")\n",
    "print(train.shape)\n",
    "print(train.describe())\n",
    "train.head()"
   ]
  },
  {
   "cell_type": "code",
   "execution_count": 4,
   "metadata": {},
   "outputs": [
    {
     "name": "stdout",
     "output_type": "stream",
     "text": [
      "(1459, 80)\n",
      "                Id   MSSubClass  LotFrontage       LotArea  OverallQual  \\\n",
      "count  1459.000000  1459.000000  1232.000000   1459.000000  1459.000000   \n",
      "mean   2190.000000    57.378341    68.580357   9819.161069     6.078821   \n",
      "std     421.321334    42.746880    22.376841   4955.517327     1.436812   \n",
      "min    1461.000000    20.000000    21.000000   1470.000000     1.000000   \n",
      "25%    1825.500000    20.000000    58.000000   7391.000000     5.000000   \n",
      "50%    2190.000000    50.000000    67.000000   9399.000000     6.000000   \n",
      "75%    2554.500000    70.000000    80.000000  11517.500000     7.000000   \n",
      "max    2919.000000   190.000000   200.000000  56600.000000    10.000000   \n",
      "\n",
      "       OverallCond    YearBuilt  YearRemodAdd   MasVnrArea   BsmtFinSF1  ...  \\\n",
      "count  1459.000000  1459.000000   1459.000000  1444.000000  1458.000000  ...   \n",
      "mean      5.553804  1971.357779   1983.662783   100.709141   439.203704  ...   \n",
      "std       1.113740    30.390071     21.130467   177.625900   455.268042  ...   \n",
      "min       1.000000  1879.000000   1950.000000     0.000000     0.000000  ...   \n",
      "25%       5.000000  1953.000000   1963.000000     0.000000     0.000000  ...   \n",
      "50%       5.000000  1973.000000   1992.000000     0.000000   350.500000  ...   \n",
      "75%       6.000000  2001.000000   2004.000000   164.000000   753.500000  ...   \n",
      "max       9.000000  2010.000000   2010.000000  1290.000000  4010.000000  ...   \n",
      "\n",
      "        GarageArea   WoodDeckSF  OpenPorchSF  EnclosedPorch    3SsnPorch  \\\n",
      "count  1458.000000  1459.000000  1459.000000    1459.000000  1459.000000   \n",
      "mean    472.768861    93.174777    48.313914      24.243317     1.794380   \n",
      "std     217.048611   127.744882    68.883364      67.227765    20.207842   \n",
      "min       0.000000     0.000000     0.000000       0.000000     0.000000   \n",
      "25%     318.000000     0.000000     0.000000       0.000000     0.000000   \n",
      "50%     480.000000     0.000000    28.000000       0.000000     0.000000   \n",
      "75%     576.000000   168.000000    72.000000       0.000000     0.000000   \n",
      "max    1488.000000  1424.000000   742.000000    1012.000000   360.000000   \n",
      "\n",
      "       ScreenPorch     PoolArea       MiscVal       MoSold       YrSold  \n",
      "count  1459.000000  1459.000000   1459.000000  1459.000000  1459.000000  \n",
      "mean     17.064428     1.744345     58.167923     6.104181  2007.769705  \n",
      "std      56.609763    30.491646    630.806978     2.722432     1.301740  \n",
      "min       0.000000     0.000000      0.000000     1.000000  2006.000000  \n",
      "25%       0.000000     0.000000      0.000000     4.000000  2007.000000  \n",
      "50%       0.000000     0.000000      0.000000     6.000000  2008.000000  \n",
      "75%       0.000000     0.000000      0.000000     8.000000  2009.000000  \n",
      "max     576.000000   800.000000  17000.000000    12.000000  2010.000000  \n",
      "\n",
      "[8 rows x 37 columns]\n"
     ]
    },
    {
     "data": {
      "text/html": [
       "<div>\n",
       "<style scoped>\n",
       "    .dataframe tbody tr th:only-of-type {\n",
       "        vertical-align: middle;\n",
       "    }\n",
       "\n",
       "    .dataframe tbody tr th {\n",
       "        vertical-align: top;\n",
       "    }\n",
       "\n",
       "    .dataframe thead th {\n",
       "        text-align: right;\n",
       "    }\n",
       "</style>\n",
       "<table border=\"1\" class=\"dataframe\">\n",
       "  <thead>\n",
       "    <tr style=\"text-align: right;\">\n",
       "      <th></th>\n",
       "      <th>Id</th>\n",
       "      <th>MSSubClass</th>\n",
       "      <th>MSZoning</th>\n",
       "      <th>LotFrontage</th>\n",
       "      <th>LotArea</th>\n",
       "      <th>Street</th>\n",
       "      <th>Alley</th>\n",
       "      <th>LotShape</th>\n",
       "      <th>LandContour</th>\n",
       "      <th>Utilities</th>\n",
       "      <th>...</th>\n",
       "      <th>ScreenPorch</th>\n",
       "      <th>PoolArea</th>\n",
       "      <th>PoolQC</th>\n",
       "      <th>Fence</th>\n",
       "      <th>MiscFeature</th>\n",
       "      <th>MiscVal</th>\n",
       "      <th>MoSold</th>\n",
       "      <th>YrSold</th>\n",
       "      <th>SaleType</th>\n",
       "      <th>SaleCondition</th>\n",
       "    </tr>\n",
       "  </thead>\n",
       "  <tbody>\n",
       "    <tr>\n",
       "      <th>0</th>\n",
       "      <td>1461</td>\n",
       "      <td>20</td>\n",
       "      <td>RH</td>\n",
       "      <td>80.0</td>\n",
       "      <td>11622</td>\n",
       "      <td>Pave</td>\n",
       "      <td>NaN</td>\n",
       "      <td>Reg</td>\n",
       "      <td>Lvl</td>\n",
       "      <td>AllPub</td>\n",
       "      <td>...</td>\n",
       "      <td>120</td>\n",
       "      <td>0</td>\n",
       "      <td>NaN</td>\n",
       "      <td>MnPrv</td>\n",
       "      <td>NaN</td>\n",
       "      <td>0</td>\n",
       "      <td>6</td>\n",
       "      <td>2010</td>\n",
       "      <td>WD</td>\n",
       "      <td>Normal</td>\n",
       "    </tr>\n",
       "    <tr>\n",
       "      <th>1</th>\n",
       "      <td>1462</td>\n",
       "      <td>20</td>\n",
       "      <td>RL</td>\n",
       "      <td>81.0</td>\n",
       "      <td>14267</td>\n",
       "      <td>Pave</td>\n",
       "      <td>NaN</td>\n",
       "      <td>IR1</td>\n",
       "      <td>Lvl</td>\n",
       "      <td>AllPub</td>\n",
       "      <td>...</td>\n",
       "      <td>0</td>\n",
       "      <td>0</td>\n",
       "      <td>NaN</td>\n",
       "      <td>NaN</td>\n",
       "      <td>Gar2</td>\n",
       "      <td>12500</td>\n",
       "      <td>6</td>\n",
       "      <td>2010</td>\n",
       "      <td>WD</td>\n",
       "      <td>Normal</td>\n",
       "    </tr>\n",
       "    <tr>\n",
       "      <th>2</th>\n",
       "      <td>1463</td>\n",
       "      <td>60</td>\n",
       "      <td>RL</td>\n",
       "      <td>74.0</td>\n",
       "      <td>13830</td>\n",
       "      <td>Pave</td>\n",
       "      <td>NaN</td>\n",
       "      <td>IR1</td>\n",
       "      <td>Lvl</td>\n",
       "      <td>AllPub</td>\n",
       "      <td>...</td>\n",
       "      <td>0</td>\n",
       "      <td>0</td>\n",
       "      <td>NaN</td>\n",
       "      <td>MnPrv</td>\n",
       "      <td>NaN</td>\n",
       "      <td>0</td>\n",
       "      <td>3</td>\n",
       "      <td>2010</td>\n",
       "      <td>WD</td>\n",
       "      <td>Normal</td>\n",
       "    </tr>\n",
       "    <tr>\n",
       "      <th>3</th>\n",
       "      <td>1464</td>\n",
       "      <td>60</td>\n",
       "      <td>RL</td>\n",
       "      <td>78.0</td>\n",
       "      <td>9978</td>\n",
       "      <td>Pave</td>\n",
       "      <td>NaN</td>\n",
       "      <td>IR1</td>\n",
       "      <td>Lvl</td>\n",
       "      <td>AllPub</td>\n",
       "      <td>...</td>\n",
       "      <td>0</td>\n",
       "      <td>0</td>\n",
       "      <td>NaN</td>\n",
       "      <td>NaN</td>\n",
       "      <td>NaN</td>\n",
       "      <td>0</td>\n",
       "      <td>6</td>\n",
       "      <td>2010</td>\n",
       "      <td>WD</td>\n",
       "      <td>Normal</td>\n",
       "    </tr>\n",
       "    <tr>\n",
       "      <th>4</th>\n",
       "      <td>1465</td>\n",
       "      <td>120</td>\n",
       "      <td>RL</td>\n",
       "      <td>43.0</td>\n",
       "      <td>5005</td>\n",
       "      <td>Pave</td>\n",
       "      <td>NaN</td>\n",
       "      <td>IR1</td>\n",
       "      <td>HLS</td>\n",
       "      <td>AllPub</td>\n",
       "      <td>...</td>\n",
       "      <td>144</td>\n",
       "      <td>0</td>\n",
       "      <td>NaN</td>\n",
       "      <td>NaN</td>\n",
       "      <td>NaN</td>\n",
       "      <td>0</td>\n",
       "      <td>1</td>\n",
       "      <td>2010</td>\n",
       "      <td>WD</td>\n",
       "      <td>Normal</td>\n",
       "    </tr>\n",
       "  </tbody>\n",
       "</table>\n",
       "<p>5 rows × 80 columns</p>\n",
       "</div>"
      ],
      "text/plain": [
       "     Id  MSSubClass MSZoning  LotFrontage  LotArea Street Alley LotShape  \\\n",
       "0  1461          20       RH         80.0    11622   Pave   NaN      Reg   \n",
       "1  1462          20       RL         81.0    14267   Pave   NaN      IR1   \n",
       "2  1463          60       RL         74.0    13830   Pave   NaN      IR1   \n",
       "3  1464          60       RL         78.0     9978   Pave   NaN      IR1   \n",
       "4  1465         120       RL         43.0     5005   Pave   NaN      IR1   \n",
       "\n",
       "  LandContour Utilities  ... ScreenPorch PoolArea PoolQC  Fence MiscFeature  \\\n",
       "0         Lvl    AllPub  ...         120        0    NaN  MnPrv         NaN   \n",
       "1         Lvl    AllPub  ...           0        0    NaN    NaN        Gar2   \n",
       "2         Lvl    AllPub  ...           0        0    NaN  MnPrv         NaN   \n",
       "3         Lvl    AllPub  ...           0        0    NaN    NaN         NaN   \n",
       "4         HLS    AllPub  ...         144        0    NaN    NaN         NaN   \n",
       "\n",
       "  MiscVal MoSold  YrSold  SaleType  SaleCondition  \n",
       "0       0      6    2010        WD         Normal  \n",
       "1   12500      6    2010        WD         Normal  \n",
       "2       0      3    2010        WD         Normal  \n",
       "3       0      6    2010        WD         Normal  \n",
       "4       0      1    2010        WD         Normal  \n",
       "\n",
       "[5 rows x 80 columns]"
      ]
     },
     "execution_count": 4,
     "metadata": {},
     "output_type": "execute_result"
    }
   ],
   "source": [
    "test = pd.read_csv(\"/Users/kim-wontae/Desktop/deschool/data/house-prices-advanced-regression-techniques/test.csv\")\n",
    "print(test.shape)\n",
    "print(test.describe())\n",
    "test.head()"
   ]
  },
  {
   "cell_type": "markdown",
   "metadata": {},
   "source": [
    "## Data fields"
   ]
  },
  {
   "cell_type": "markdown",
   "metadata": {},
   "source": [
    "- label column : SalePrice 부동산의 판매 가격 (달러)입니다. 이것이 예측하려는 목표 변수입니다.\n",
    "\n",
    "- SalePrice- 부동산의 판매 가격 (달러)입니다. 이것이 예측하려는 목표 변수입니다.\n",
    "- MSSubClass : 건물 등급\n",
    "- MSZoning : 일반 구역 분류\n",
    "- LotFrontage : 부동산에 연결된 거리의 선형 피트\n",
    "- LotArea : 평방 피트 단위의 부지 크기\n",
    "- Street : 도로 접근 유형\n",
    "- Alley : 골목 접근 유형\n",
    "- LotShape : 속성의 일반적인 모양\n",
    "- LandContour : 부동산의 평탄도\n",
    "- Utilities : 사용 가능한 유틸리티 유형\n",
    "- LotConfig : 로트 구성\n",
    "- LandSlope : 부동산의 경사\n",
    "- Neighborhood : 에임스시 경계 내의 물리적 위치\n",
    "- Condition1 : 주요 도로 또는 철도와의 근접성\n",
    "- Condition2 : 주요 도로 또는 철도와의 근접성 (초가있는 경우)\n",
    "- BldgType : 주거 형태\n",
    "- HouseStyle : 주거 스타일\n",
    "- OverallQual : 전체 재료 및 마감 품질\n",
    "- OverallCond : 전체 상태 등급\n",
    "- YearBuilt : 원래 공사 일\n",
    "- YearRemodAdd : 리모델링 날짜\n",
    "- RoofStyle : 지붕 유형\n",
    "- RoofMatl : 지붕 재료\n",
    "- Exterior1st : 주택 외장재\n",
    "- Exterior2nd : 주택 외장재 (하나 이상인 경우)\n",
    "- MasVnrType : 조적 베니어 유형\n",
    "- MasVnrArea : 벽돌 베니어 면적 (평방 피트)\n",
    "- ExterQual : 외장재 품질\n",
    "- ExterCond : 외장재의 현황\n",
    "- Foundation : 기초 유형\n",
    "- BsmtQual : 지하 높이\n",
    "- BsmtCond : 지하실 개황\n",
    "- BsmtExposure : 워크 아웃 또는 정원 수준의 지하 벽\n",
    "- BsmtFinType1 : 지하 마감면의 품질\n",
    "- BsmtFinSF1 : 유형 1 완성 된 평방 피트\n",
    "- BsmtFinType2 : 두 번째 완성 된 영역의 품질 (있는 경우)\n",
    "- BsmtFinSF2 : 유형 2 완성 된 평방 피트\n",
    "- BsmtUnfSF : 미완성 된 지하실 면적\n",
    "- TotalBsmtSF : 지하 총 평방 피트\n",
    "- Heating : 난방의 종류\n",
    "- HeatingQC : 난방 품질 및 상태\n",
    "- CentralAir : 중앙 에어컨\n",
    "- Electrical : 전기 시스템\n",
    "- 1stFlrSF : 1 층 평방 피트\n",
    "- 2ndFlrSF : 2 층 평방 피트\n",
    "- LowQualFinSF : 저품질 마감 평방 피트 (모든 층)\n",
    "- GrLivArea : 지상 (지상) 거실 면적 평방 피트\n",
    "- BsmtFullBath : 지하 전체 욕실\n",
    "- BsmtHalfBath : 지하 반 욕실\n",
    "- FullBath : 등급 이상의 전체 욕실\n",
    "- HalfBath : 지상 절반의 목욕\n",
    "- Bedroom : 지하층 이상의 침실 수\n",
    "- Kitchen : 주방 수\n",
    "- KitchenQual : 주방 품질\n",
    "- TotRmsAbvGrd : 학년 이상의 총 방 (화장실 제외)\n",
    "- Functional : 홈 기능 등급\n",
    "- Fireplaces : 벽난로 수\n",
    "- FireplaceQu : 벽난로 품질\n",
    "- GarageType : 차고 위치\n",
    "- GarageYrBlt : 차고 건설 연도\n",
    "- GarageFinish : 차고 내부 마감\n",
    "- GarageCars : 차량 수용 가능 차고 크기\n",
    "- GarageArea : 차고의 크기 (평방 피트)\n",
    "- GarageQual : 차고 품질\n",
    "- GarageCond : 차고 상태\n",
    "- PavedDrive : 포장 된 진입로\n",
    "- WoodDeckSF : 목재 데크 면적 (평방 피트)\n",
    "- OpenPorchSF : 평방 피트 단위의 오픈 현관 영역\n",
    "- EnclosedPorch : 닫힌 현관 영역 (평방 피트)\n",
    "- 3SsnPorch : 평방 피트의 3 계절 현관 면적\n",
    "- ScreenPorch : 스크린 현관 면적 (평방 피트)\n",
    "- PoolArea : 수영장 면적 (평방 피트)\n",
    "- PoolQC : 수영장 품질\n",
    "- Fence : 울타리 품질\n",
    "- MiscFeature : 다른 카테고리에서 다루지 않는 기타 기능\n",
    "- MiscVal : 기타 기능의 $ Value\n",
    "- MoSold : 월 판매\n",
    "- YrSold : 판매 연도\n",
    "- SaleType : 판매 유형\n",
    "- SaleCondition : 판매 조건"
   ]
  },
  {
   "cell_type": "markdown",
   "metadata": {},
   "source": [
    "### base performance Calculation"
   ]
  },
  {
   "cell_type": "markdown",
   "metadata": {},
   "source": [
    "- 우선, 특별히 데이터의 상세한 전 처리를 진행하지않고 주택가격과 유관할것으로 예상되는 feature를 주관적으로 선정하여 fitting후 모델의 베이스성능을 구해본다. \n",
    "- 주관적으로 선택한 피쳐는 아래와 같다.\n",
    "\n",
    "- 'MSSubClass':건물 등급 -> 건물의 품질 또는 가치를 대변하는 지표라고 생각됨.\n",
    "- 'LotArea' : 평방 피트 단위의 부지 크기 -> 절대적인것은 아니지만, 대개 부지가 클 경우 주택 가격도 비례할것으로 예상됨.\n",
    "- 'Street' : 도로 접근 유형 -> 해당 주택의 접근성이 뛰어날 경우 가격에 영향을 미칠 수 있을것으로 예상됨.\n",
    "- 'Alley' : 골목 접근 유형 -> 해당 주택의 접근성이 뛰어날 경우 가격에 영향을 미칠 수 있을것으로 예상됨.\n",
    "- 'Condition1' : 주요 도로 또는 철도와의 근접성 -> 해당 주택과 이동수단간의 근접성이 뛰어날 경우 가격에 영향을 미칠 수 있을것으로 예상됨.\n",
    "- 'Condition2' : 주요 도로 또는 철도와의 근접성 (초가있는 경우) -> 해당 주택과 이동수단간의 근접성이 뛰어날 경우 가격에 영향을 미칠 수 있을것으로 예상됨.\n",
    "- 'BldgType' : 주거 형태 -> 주거형태가 주거 트렌드와 밀접한 관련이 있어, 주택 가격에 영향을 미칠 수 있을것으로 판단함.\n",
    "- 'HouseStyle' : 주거 스타일 -> 위와 동일\n",
    "- 'YearRemodAdd' : 리모델링 날짜 -> 리모델링 여부와 시기는 주택가격과 밀접한 관련이 있을것으로 예상됨\n",
    "- 'GrLivArea' : 지상 (지상) 거실 면적 평방 피트 -> 어떠한 시설이던지 면적과 주택가격은 대체로 비례할것으로 예상됨\n",
    "- 'BsmtFullBath' : 지하 전체 욕실 -> 어떠한 시설이던지 면적과 주택가격은 대체로 비례할것으로 예상됨\n",
    "- 'BsmtHalfBath' : 지하 반 욕실 -> 어떠한 시설이던지 면적과 주택가격은 대체로 비례할것으로 예상됨\n",
    "- 'FullBath' : 등급 이상의 전체 욕실 -> 가치가 높은 욕실을 보유한 주택이 당연히 가격도 높게 형성될 것으로 예상됨.\n",
    "- 'HalfBath' : 지상 절반의 목욕\n",
    "- 'KitchenQual' : 주방 품질 -> 가치가 높은 주방을 보유한 주택이 당연히 가격도 높게 형성될 것으로 예상됨.\n",
    "- 'TotRmsAbvGrd' : 학년 이상의 총 방 (화장실 제외) -> 방의 개수가 많을 수록 면적 및 주택가격도 높아질것으로 예상됨\n",
    "- 'Functional' : 홈 기능 등급 -> 많은 기능을 보유한 주택의 가격이 높게 형성될것으로 예상됨\n",
    "- 'Fireplaces' : 벽난로 수 -> 벽난로수는 곧 주택의 가치와 면적에 영향을 줄 수 있고, 이것은 주택가격에도 영향을 미칠 수 있을것으로 예상됨\n",
    "- 'FireplaceQu' : 벽난로 품질 -> 높은 가치를 지닌 주택의 벽난로가 일반적으로 품질도 더 좋을것으로 예상\n",
    "- 'PoolArea' : 수영장 면적 (평방 피트) -> 수영장 크기와 주택가격은 대체로 비례할것으로 예상."
   ]
  },
  {
   "cell_type": "markdown",
   "metadata": {},
   "source": [
    "## preprocessing"
   ]
  },
  {
   "cell_type": "markdown",
   "metadata": {},
   "source": [
    "#### 중복 데이터 유무 확인"
   ]
  },
  {
   "cell_type": "code",
   "execution_count": 5,
   "metadata": {},
   "outputs": [
    {
     "data": {
      "text/plain": [
       "0"
      ]
     },
     "execution_count": 5,
     "metadata": {},
     "output_type": "execute_result"
    }
   ],
   "source": [
    "train.duplicated().sum()\n",
    "\n",
    "# 중복데이터는 없는것으로 확인"
   ]
  },
  {
   "cell_type": "markdown",
   "metadata": {},
   "source": [
    "model fitting을 위하여 type이 'object'인 아래 컬럼에 대한 preprocessing 필요\n",
    "\n",
    "- 'Street'\n",
    "- 'Alley'\n",
    "- 'Condition1'\n",
    "- 'Condition2'\n",
    "- 'BldgType'\n",
    "- 'HouseStyle'\n",
    "- 'YearRemodAdd'\n",
    "- 'GrLivArea'\n",
    "- 'KitchenQual'\n",
    "- 'Functional'\n",
    "- 'FireplaceQu'"
   ]
  },
  {
   "cell_type": "markdown",
   "metadata": {},
   "source": [
    "### 'Street' column One-Hot_Encoding"
   ]
  },
  {
   "cell_type": "code",
   "execution_count": 8,
   "metadata": {},
   "outputs": [
    {
     "name": "stdout",
     "output_type": "stream",
     "text": [
      "(1460, 81)\n"
     ]
    },
    {
     "data": {
      "text/plain": [
       "Pave    1454\n",
       "Grvl       6\n",
       "Name: Street, dtype: int64"
      ]
     },
     "execution_count": 8,
     "metadata": {},
     "output_type": "execute_result"
    }
   ],
   "source": [
    "print(train.shape)\n",
    "train['Street'].value_counts()"
   ]
  },
  {
   "cell_type": "code",
   "execution_count": 9,
   "metadata": {},
   "outputs": [
    {
     "name": "stdout",
     "output_type": "stream",
     "text": [
      "False    1454\n",
      "True        6\n",
      "Name: street_Grvl, dtype: int64\n",
      "True     1454\n",
      "False       6\n",
      "Name: street_Pave, dtype: int64\n"
     ]
    }
   ],
   "source": [
    "street_list = ['Pave', 'Grvl', 'NaN']\n",
    "for i in street_list :\n",
    "    col_name = 'street_'+ i\n",
    "    train[col_name] = train['Street'] == i\n",
    "\n",
    "print(train['street_Grvl'].value_counts())\n",
    "print(train['street_Pave'].value_counts())"
   ]
  },
  {
   "cell_type": "code",
   "execution_count": 10,
   "metadata": {},
   "outputs": [
    {
     "data": {
      "text/html": [
       "<div>\n",
       "<style scoped>\n",
       "    .dataframe tbody tr th:only-of-type {\n",
       "        vertical-align: middle;\n",
       "    }\n",
       "\n",
       "    .dataframe tbody tr th {\n",
       "        vertical-align: top;\n",
       "    }\n",
       "\n",
       "    .dataframe thead th {\n",
       "        text-align: right;\n",
       "    }\n",
       "</style>\n",
       "<table border=\"1\" class=\"dataframe\">\n",
       "  <thead>\n",
       "    <tr style=\"text-align: right;\">\n",
       "      <th></th>\n",
       "      <th>Street</th>\n",
       "      <th>street_Pave</th>\n",
       "      <th>street_Grvl</th>\n",
       "      <th>street_NaN</th>\n",
       "    </tr>\n",
       "  </thead>\n",
       "  <tbody>\n",
       "    <tr>\n",
       "      <th>0</th>\n",
       "      <td>Pave</td>\n",
       "      <td>True</td>\n",
       "      <td>False</td>\n",
       "      <td>False</td>\n",
       "    </tr>\n",
       "    <tr>\n",
       "      <th>1</th>\n",
       "      <td>Pave</td>\n",
       "      <td>True</td>\n",
       "      <td>False</td>\n",
       "      <td>False</td>\n",
       "    </tr>\n",
       "    <tr>\n",
       "      <th>2</th>\n",
       "      <td>Pave</td>\n",
       "      <td>True</td>\n",
       "      <td>False</td>\n",
       "      <td>False</td>\n",
       "    </tr>\n",
       "    <tr>\n",
       "      <th>3</th>\n",
       "      <td>Pave</td>\n",
       "      <td>True</td>\n",
       "      <td>False</td>\n",
       "      <td>False</td>\n",
       "    </tr>\n",
       "    <tr>\n",
       "      <th>4</th>\n",
       "      <td>Pave</td>\n",
       "      <td>True</td>\n",
       "      <td>False</td>\n",
       "      <td>False</td>\n",
       "    </tr>\n",
       "  </tbody>\n",
       "</table>\n",
       "</div>"
      ],
      "text/plain": [
       "  Street  street_Pave  street_Grvl  street_NaN\n",
       "0   Pave         True        False       False\n",
       "1   Pave         True        False       False\n",
       "2   Pave         True        False       False\n",
       "3   Pave         True        False       False\n",
       "4   Pave         True        False       False"
      ]
     },
     "execution_count": 10,
     "metadata": {},
     "output_type": "execute_result"
    }
   ],
   "source": [
    "train[['Street', 'street_Pave', 'street_Grvl', 'street_NaN']].head()"
   ]
  },
  {
   "cell_type": "markdown",
   "metadata": {},
   "source": [
    "### 'Alley' column One-Hot_Encoding"
   ]
  },
  {
   "cell_type": "code",
   "execution_count": 11,
   "metadata": {},
   "outputs": [
    {
     "data": {
      "text/plain": [
       "Grvl    50\n",
       "Pave    41\n",
       "Name: Alley, dtype: int64"
      ]
     },
     "execution_count": 11,
     "metadata": {},
     "output_type": "execute_result"
    }
   ],
   "source": [
    "train['Alley'].value_counts()"
   ]
  },
  {
   "cell_type": "code",
   "execution_count": 12,
   "metadata": {},
   "outputs": [
    {
     "data": {
      "text/plain": [
       "1369"
      ]
     },
     "execution_count": 12,
     "metadata": {},
     "output_type": "execute_result"
    }
   ],
   "source": [
    "train['Alley'].isnull().sum()"
   ]
  },
  {
   "cell_type": "markdown",
   "metadata": {},
   "source": [
    "- 'Alley'컬럼에서 null인 데이터가 총 1,369개이며, 실제 데이터는 91개만 수록되어있다.\n",
    "- 'Alley'컬럼은 'Type of alley access to property'로 해당 '재산(건축물)에 접근 방식의 특성'을 이야기하는데, value를 보면 'Paved:포장도로', 'Gravel:비포장로', NaN으로 표기된 접근방법이 없는 케이스로 접근방식의 편의성에 따라 주택가격에 영향을 미칠 수 있을 것 같다.\n",
    "- one-hot-encoding 처리필요. "
   ]
  },
  {
   "cell_type": "code",
   "execution_count": 13,
   "metadata": {},
   "outputs": [
    {
     "name": "stdout",
     "output_type": "stream",
     "text": [
      "False    1419\n",
      "True       41\n",
      "Name: alley_Pave, dtype: int64\n",
      "False    1410\n",
      "True       50\n",
      "Name: alley_Grvl, dtype: int64\n",
      "False    1460\n",
      "Name: alley_NaN, dtype: int64\n"
     ]
    }
   ],
   "source": [
    "alley_list = ['Pave', 'Grvl', 'NaN']\n",
    "for i in alley_list :\n",
    "    col_name = \"alley_\" + i\n",
    "    train[col_name] = train['Alley'] == i\n",
    "\n",
    "print(train['alley_Pave'].value_counts())\n",
    "print(train['alley_Grvl'].value_counts())\n",
    "print(train['alley_NaN'].value_counts())"
   ]
  },
  {
   "cell_type": "code",
   "execution_count": 14,
   "metadata": {},
   "outputs": [
    {
     "data": {
      "text/html": [
       "<div>\n",
       "<style scoped>\n",
       "    .dataframe tbody tr th:only-of-type {\n",
       "        vertical-align: middle;\n",
       "    }\n",
       "\n",
       "    .dataframe tbody tr th {\n",
       "        vertical-align: top;\n",
       "    }\n",
       "\n",
       "    .dataframe thead th {\n",
       "        text-align: right;\n",
       "    }\n",
       "</style>\n",
       "<table border=\"1\" class=\"dataframe\">\n",
       "  <thead>\n",
       "    <tr style=\"text-align: right;\">\n",
       "      <th></th>\n",
       "      <th>Alley</th>\n",
       "      <th>alley_Pave</th>\n",
       "      <th>alley_Grvl</th>\n",
       "      <th>alley_NaN</th>\n",
       "    </tr>\n",
       "  </thead>\n",
       "  <tbody>\n",
       "    <tr>\n",
       "      <th>0</th>\n",
       "      <td>NaN</td>\n",
       "      <td>False</td>\n",
       "      <td>False</td>\n",
       "      <td>False</td>\n",
       "    </tr>\n",
       "    <tr>\n",
       "      <th>1</th>\n",
       "      <td>NaN</td>\n",
       "      <td>False</td>\n",
       "      <td>False</td>\n",
       "      <td>False</td>\n",
       "    </tr>\n",
       "    <tr>\n",
       "      <th>2</th>\n",
       "      <td>NaN</td>\n",
       "      <td>False</td>\n",
       "      <td>False</td>\n",
       "      <td>False</td>\n",
       "    </tr>\n",
       "    <tr>\n",
       "      <th>3</th>\n",
       "      <td>NaN</td>\n",
       "      <td>False</td>\n",
       "      <td>False</td>\n",
       "      <td>False</td>\n",
       "    </tr>\n",
       "    <tr>\n",
       "      <th>4</th>\n",
       "      <td>NaN</td>\n",
       "      <td>False</td>\n",
       "      <td>False</td>\n",
       "      <td>False</td>\n",
       "    </tr>\n",
       "  </tbody>\n",
       "</table>\n",
       "</div>"
      ],
      "text/plain": [
       "  Alley  alley_Pave  alley_Grvl  alley_NaN\n",
       "0   NaN       False       False      False\n",
       "1   NaN       False       False      False\n",
       "2   NaN       False       False      False\n",
       "3   NaN       False       False      False\n",
       "4   NaN       False       False      False"
      ]
     },
     "execution_count": 14,
     "metadata": {},
     "output_type": "execute_result"
    }
   ],
   "source": [
    "train[['Alley', 'alley_Pave', 'alley_Grvl', 'alley_NaN']].head()"
   ]
  },
  {
   "cell_type": "markdown",
   "metadata": {},
   "source": [
    "### 'Condition1' column One-Hot_Encoding"
   ]
  },
  {
   "cell_type": "markdown",
   "metadata": {},
   "source": [
    "kaggle dec.\n",
    "\n",
    "'Condition1': Proximity to various conditions(\"다양한 조건에 대한 근접성\")\n",
    "\t\n",
    "- Artery : Adjacent to arterial street(간선 도로에 인접)\n",
    "- Feedr : Adjacent to feeder street(피더 스트리트에 인접)\n",
    "- Norm : Normal\t\n",
    "- RRNn : Within 200' of North-South Railroad(남북 철도 200 피트 이내)\n",
    "- RRAn : Adjacent to North-South Railroad(남북 철도에 인접)\n",
    "- PosN : Near positive off-site feature--park, greenbelt, etc.(거의 긍정적 인 오프 사이트 기능 (공원, 그린벨트 등))\n",
    "- PosA : Adjacent to postive off-site feature(포스트 오프 사이트 기능에 인접)\n",
    "- RRNe : Within 200' of East-West Railroad(동서 철도 200 피트 이내)\n",
    "- RRAe : Adjacent to East-West Railroad(동서 철도에 인접)\n",
    "\n",
    "\n"
   ]
  },
  {
   "cell_type": "code",
   "execution_count": 15,
   "metadata": {},
   "outputs": [
    {
     "data": {
      "text/plain": [
       "Norm      1260\n",
       "Feedr       81\n",
       "Artery      48\n",
       "RRAn        26\n",
       "PosN        19\n",
       "RRAe        11\n",
       "PosA         8\n",
       "RRNn         5\n",
       "RRNe         2\n",
       "Name: Condition1, dtype: int64"
      ]
     },
     "execution_count": 15,
     "metadata": {},
     "output_type": "execute_result"
    }
   ],
   "source": [
    "train.Condition1.value_counts()"
   ]
  },
  {
   "cell_type": "code",
   "execution_count": 16,
   "metadata": {},
   "outputs": [
    {
     "data": {
      "text/plain": [
       "Index(['Norm', 'Feedr', 'Artery', 'RRAn', 'PosN', 'RRAe', 'PosA', 'RRNn',\n",
       "       'RRNe'],\n",
       "      dtype='object')"
      ]
     },
     "execution_count": 16,
     "metadata": {},
     "output_type": "execute_result"
    }
   ],
   "source": [
    "train.Condition1.value_counts().index"
   ]
  },
  {
   "cell_type": "code",
   "execution_count": 17,
   "metadata": {},
   "outputs": [
    {
     "name": "stdout",
     "output_type": "stream",
     "text": [
      "True     1260\n",
      "False     200\n",
      "Name: condition1_Norm, dtype: int64\n",
      "False    1379\n",
      "True       81\n",
      "Name: condition1_Feedr, dtype: int64\n",
      "False    1412\n",
      "True       48\n",
      "Name: condition1_Artery, dtype: int64\n",
      "False    1434\n",
      "True       26\n",
      "Name: condition1_RRAn, dtype: int64\n",
      "False    1441\n",
      "True       19\n",
      "Name: condition1_PosN, dtype: int64\n",
      "False    1449\n",
      "True       11\n",
      "Name: condition1_RRAe, dtype: int64\n",
      "False    1452\n",
      "True        8\n",
      "Name: condition1_PosA, dtype: int64\n",
      "False    1455\n",
      "True        5\n",
      "Name: condition1_RRNn, dtype: int64\n",
      "False    1458\n",
      "True        2\n",
      "Name: condition1_RRNe, dtype: int64\n"
     ]
    }
   ],
   "source": [
    "condition1_list = ['Norm', 'Feedr', 'Artery', 'RRAn', 'PosN', 'RRAe', 'PosA', 'RRNn',\n",
    "       'RRNe']\n",
    "\n",
    "for i in condition1_list :\n",
    "    col_name = 'condition1_' + i\n",
    "    train[col_name] = train['Condition1'] == i\n",
    "    \n",
    "print(train['condition1_Norm'].value_counts())\n",
    "print(train['condition1_Feedr'].value_counts())\n",
    "print(train['condition1_Artery'].value_counts())\n",
    "print(train['condition1_RRAn'].value_counts())\n",
    "print(train['condition1_PosN'].value_counts())\n",
    "print(train['condition1_RRAe'].value_counts())\n",
    "print(train['condition1_PosA'].value_counts())\n",
    "print(train['condition1_RRNn'].value_counts())\n",
    "print(train['condition1_RRNe'].value_counts())"
   ]
  },
  {
   "cell_type": "markdown",
   "metadata": {},
   "source": [
    "### 'Condition2' column One-Hot_Encoding"
   ]
  },
  {
   "cell_type": "markdown",
   "metadata": {},
   "source": [
    "Kaggle dec.\n",
    "\n",
    "Condition2: Proximity to various conditions (if more than one is present)\n",
    "\n",
    "- Artery : Adjacent to arterial street(간선 도로에 인접)\n",
    "- Feedr : Adjacent to feeder street(피더 스트리트에 인접)\n",
    "- Norm : Normal\t\n",
    "- RRNn : Within 200' of North-South Railroad(남북 철도 200 피트 이내)\n",
    "- RRAn : Adjacent to North-South Railroad(남북 철도에 인접)\n",
    "- PosN : Near positive off-site feature--park, greenbelt, etc.(거의 긍정적 인 오프 사이트 기능 (공원, 그린벨트 등))\n",
    "- PosA : Adjacent to postive off-site feature(포스트 오프 사이트 기능에 인접)\n",
    "- RRNe : Within 200' of East-West Railroad(동서 철도 200 피트 이내)\n",
    "- RRAe : Adjacent to East-West Railroad(동서 철도에 인접)"
   ]
  },
  {
   "cell_type": "code",
   "execution_count": 18,
   "metadata": {},
   "outputs": [
    {
     "data": {
      "text/plain": [
       "Norm      1445\n",
       "Feedr        6\n",
       "PosN         2\n",
       "Artery       2\n",
       "RRNn         2\n",
       "PosA         1\n",
       "RRAe         1\n",
       "RRAn         1\n",
       "Name: Condition2, dtype: int64"
      ]
     },
     "execution_count": 18,
     "metadata": {},
     "output_type": "execute_result"
    }
   ],
   "source": [
    "train.Condition2.value_counts()"
   ]
  },
  {
   "cell_type": "code",
   "execution_count": 21,
   "metadata": {},
   "outputs": [
    {
     "data": {
      "text/plain": [
       "Index(['Norm', 'Feedr', 'PosN', 'Artery', 'RRNn', 'PosA', 'RRAe', 'RRAn'], dtype='object')"
      ]
     },
     "execution_count": 21,
     "metadata": {},
     "output_type": "execute_result"
    }
   ],
   "source": [
    "train.Condition2.value_counts().index"
   ]
  },
  {
   "cell_type": "code",
   "execution_count": 22,
   "metadata": {},
   "outputs": [
    {
     "name": "stdout",
     "output_type": "stream",
     "text": [
      "True     1445\n",
      "False      15\n",
      "Name: condition2_Norm, dtype: int64\n",
      "False    1454\n",
      "True        6\n",
      "Name: condition2_Feedr, dtype: int64\n",
      "False    1458\n",
      "True        2\n",
      "Name: condition2_Artery, dtype: int64\n",
      "False    1458\n",
      "True        2\n",
      "Name: condition2_PosN, dtype: int64\n",
      "False    1458\n",
      "True        2\n",
      "Name: condition2_RRNn, dtype: int64\n",
      "False    1459\n",
      "True        1\n",
      "Name: condition2_PosA, dtype: int64\n",
      "False    1459\n",
      "True        1\n",
      "Name: condition2_RRAn, dtype: int64\n",
      "False    1459\n",
      "True        1\n",
      "Name: condition2_RRAe, dtype: int64\n"
     ]
    }
   ],
   "source": [
    "condition2_list = ['Norm', 'Feedr', 'Artery', 'PosN', 'RRNn', 'PosA', 'RRAn', 'RRAe']\n",
    "\n",
    "for i in condition2_list :\n",
    "    col_name = 'condition2_' + i\n",
    "    train[col_name] = train['Condition2'] == i\n",
    "    \n",
    "print(train['condition2_Norm'].value_counts())\n",
    "print(train['condition2_Feedr'].value_counts())\n",
    "print(train['condition2_Artery'].value_counts())\n",
    "print(train['condition2_PosN'].value_counts())\n",
    "print(train['condition2_RRNn'].value_counts())\n",
    "print(train['condition2_PosA'].value_counts())\n",
    "print(train['condition2_RRAn'].value_counts())\n",
    "print(train['condition2_RRAe'].value_counts())"
   ]
  },
  {
   "cell_type": "markdown",
   "metadata": {},
   "source": [
    "### 'BldgType' column One-Hot_Encoding"
   ]
  },
  {
   "cell_type": "code",
   "execution_count": 23,
   "metadata": {},
   "outputs": [
    {
     "data": {
      "text/plain": [
       "1Fam      1220\n",
       "TwnhsE     114\n",
       "Duplex      52\n",
       "Twnhs       43\n",
       "2fmCon      31\n",
       "Name: BldgType, dtype: int64"
      ]
     },
     "execution_count": 23,
     "metadata": {},
     "output_type": "execute_result"
    }
   ],
   "source": [
    "train['BldgType'].value_counts()"
   ]
  },
  {
   "cell_type": "code",
   "execution_count": 29,
   "metadata": {},
   "outputs": [
    {
     "data": {
      "text/plain": [
       "1460"
      ]
     },
     "execution_count": 29,
     "metadata": {},
     "output_type": "execute_result"
    }
   ],
   "source": [
    "train['BldgType'].value_counts().sum()"
   ]
  },
  {
   "cell_type": "code",
   "execution_count": 24,
   "metadata": {},
   "outputs": [
    {
     "data": {
      "text/plain": [
       "Index(['1Fam', 'TwnhsE', 'Duplex', 'Twnhs', '2fmCon'], dtype='object')"
      ]
     },
     "execution_count": 24,
     "metadata": {},
     "output_type": "execute_result"
    }
   ],
   "source": [
    "train['BldgType'].value_counts().index"
   ]
  },
  {
   "cell_type": "code",
   "execution_count": 30,
   "metadata": {},
   "outputs": [
    {
     "name": "stdout",
     "output_type": "stream",
     "text": [
      "True     1220\n",
      "False     240\n",
      "Name: bldgtype_1Fam, dtype: int64\n",
      "False    1346\n",
      "True      114\n",
      "Name: bldgtype_TwnhsE, dtype: int64\n",
      "False    1408\n",
      "True       52\n",
      "Name: bldgtype_Duplex, dtype: int64\n",
      "False    1417\n",
      "True       43\n",
      "Name: bldgtype_Twnhs, dtype: int64\n",
      "False    1429\n",
      "True       31\n",
      "Name: bldgtype_2fmCon, dtype: int64\n"
     ]
    }
   ],
   "source": [
    "bldgtype_list = ['1Fam', 'TwnhsE', 'Duplex', 'Twnhs', '2fmCon']\n",
    "\n",
    "for i in bldgtype_list :\n",
    "    col_name = 'bldgtype_' + i\n",
    "    train[col_name] = train['BldgType'] == i\n",
    "\n",
    "print(train['bldgtype_1Fam'].value_counts())\n",
    "print(train['bldgtype_TwnhsE'].value_counts())\n",
    "print(train['bldgtype_Duplex'].value_counts())\n",
    "print(train['bldgtype_Twnhs'].value_counts())\n",
    "print(train['bldgtype_2fmCon'].value_counts())\n"
   ]
  },
  {
   "cell_type": "markdown",
   "metadata": {},
   "source": [
    "### 'HouseStyle' column One-Hot_Encoding"
   ]
  },
  {
   "cell_type": "code",
   "execution_count": 32,
   "metadata": {},
   "outputs": [
    {
     "data": {
      "text/plain": [
       "1Story    726\n",
       "2Story    445\n",
       "1.5Fin    154\n",
       "SLvl       65\n",
       "SFoyer     37\n",
       "1.5Unf     14\n",
       "2.5Unf     11\n",
       "2.5Fin      8\n",
       "Name: HouseStyle, dtype: int64"
      ]
     },
     "execution_count": 32,
     "metadata": {},
     "output_type": "execute_result"
    }
   ],
   "source": [
    "train['HouseStyle'].value_counts()"
   ]
  },
  {
   "cell_type": "code",
   "execution_count": 33,
   "metadata": {},
   "outputs": [
    {
     "data": {
      "text/plain": [
       "1460"
      ]
     },
     "execution_count": 33,
     "metadata": {},
     "output_type": "execute_result"
    }
   ],
   "source": [
    "train['HouseStyle'].value_counts().sum()"
   ]
  },
  {
   "cell_type": "code",
   "execution_count": 35,
   "metadata": {},
   "outputs": [
    {
     "data": {
      "text/plain": [
       "Index(['1Story', '2Story', '1.5Fin', 'SLvl', 'SFoyer', '1.5Unf', '2.5Unf',\n",
       "       '2.5Fin'],\n",
       "      dtype='object')"
      ]
     },
     "execution_count": 35,
     "metadata": {},
     "output_type": "execute_result"
    }
   ],
   "source": [
    "train['HouseStyle'].value_counts().index"
   ]
  },
  {
   "cell_type": "code",
   "execution_count": 36,
   "metadata": {},
   "outputs": [
    {
     "name": "stdout",
     "output_type": "stream",
     "text": [
      "False    734\n",
      "True     726\n",
      "Name: housestyle_1Story, dtype: int64\n",
      "False    1015\n",
      "True      445\n",
      "Name: housestyle_2Story, dtype: int64\n",
      "False    1306\n",
      "True      154\n",
      "Name: housestyle_1.5Fin, dtype: int64\n",
      "False    1395\n",
      "True       65\n",
      "Name: housestyle_SLvl, dtype: int64\n",
      "False    1423\n",
      "True       37\n",
      "Name: housestyle_SFoyer, dtype: int64\n",
      "False    1446\n",
      "True       14\n",
      "Name: housestyle_1.5Unf, dtype: int64\n",
      "False    1449\n",
      "True       11\n",
      "Name: housestyle_2.5Unf, dtype: int64\n"
     ]
    }
   ],
   "source": [
    "housestyle_list = ['1Story', '2Story', '1.5Fin', 'SLvl', 'SFoyer', '1.5Unf', '2.5Unf',\n",
    "       '2.5Fin']\n",
    "\n",
    "for i in housestyle_list :\n",
    "    col_name = 'housestyle_' + i\n",
    "    train[col_name] = train['HouseStyle'] == i\n",
    "\n",
    "print(train['housestyle_1Story'].value_counts())\n",
    "print(train['housestyle_2Story'].value_counts())\n",
    "print(train['housestyle_1.5Fin'].value_counts())\n",
    "print(train['housestyle_SLvl'].value_counts())\n",
    "print(train['housestyle_SFoyer'].value_counts())\n",
    "print(train['housestyle_1.5Unf'].value_counts())\n",
    "print(train['housestyle_2.5Unf'].value_counts())"
   ]
  },
  {
   "cell_type": "markdown",
   "metadata": {},
   "source": [
    "### 'YearRemodAdd' column One-Hot_Encoding"
   ]
  },
  {
   "cell_type": "code",
   "execution_count": 37,
   "metadata": {},
   "outputs": [
    {
     "data": {
      "text/plain": [
       "1950    178\n",
       "2006     97\n",
       "2007     76\n",
       "2005     73\n",
       "2004     62\n",
       "       ... \n",
       "2010      6\n",
       "1983      5\n",
       "1952      5\n",
       "1986      5\n",
       "1951      4\n",
       "Name: YearRemodAdd, Length: 61, dtype: int64"
      ]
     },
     "execution_count": 37,
     "metadata": {},
     "output_type": "execute_result"
    }
   ],
   "source": [
    "train['YearRemodAdd'].value_counts()"
   ]
  },
  {
   "cell_type": "code",
   "execution_count": 38,
   "metadata": {},
   "outputs": [
    {
     "data": {
      "text/plain": [
       "1460"
      ]
     },
     "execution_count": 38,
     "metadata": {},
     "output_type": "execute_result"
    }
   ],
   "source": [
    "train['YearRemodAdd'].value_counts().sum()"
   ]
  },
  {
   "cell_type": "code",
   "execution_count": 46,
   "metadata": {},
   "outputs": [
    {
     "data": {
      "text/plain": [
       "61"
      ]
     },
     "execution_count": 46,
     "metadata": {},
     "output_type": "execute_result"
    }
   ],
   "source": [
    "len(train['YearRemodAdd'].value_counts().index)\n",
    "# value"
   ]
  },
  {
   "cell_type": "code",
   "execution_count": 47,
   "metadata": {},
   "outputs": [
    {
     "data": {
      "text/plain": [
       "Int64Index([1950, 2006, 2007, 2005, 2004, 2000, 2003, 2002, 2008, 1996, 1998,\n",
       "            1995, 1976, 1999, 1970, 1997, 1977, 2009, 1994, 2001, 1972, 1965,\n",
       "            1993, 1971, 1959, 1968, 1992, 1978, 1966, 1958, 1990, 1962, 1954,\n",
       "            1969, 1991, 1963, 1960, 1967, 1980, 1973, 1964, 1989, 1987, 1975,\n",
       "            1979, 1956, 1953, 1957, 1988, 1955, 1985, 1961, 1981, 1974, 1982,\n",
       "            1984, 2010, 1983, 1952, 1986, 1951],\n",
       "           dtype='int64')"
      ]
     },
     "execution_count": 47,
     "metadata": {},
     "output_type": "execute_result"
    }
   ],
   "source": [
    "train['YearRemodAdd'].value_counts().index"
   ]
  },
  {
   "cell_type": "markdown",
   "metadata": {},
   "source": [
    "# 여기서 부터 다시 진행하자...힘들다...노가다."
   ]
  },
  {
   "cell_type": "code",
   "execution_count": null,
   "metadata": {},
   "outputs": [],
   "source": []
  },
  {
   "cell_type": "markdown",
   "metadata": {},
   "source": [
    "#### 일단 주택 가격에 영향을 미칠만한 요소를 주관적으로 선정하여 fitting을 하기위하여 컬럼 전처리를 실시한다."
   ]
  },
  {
   "cell_type": "code",
   "execution_count": null,
   "metadata": {},
   "outputs": [],
   "source": [
    "label = 'SalePrice'\n",
    "    \n",
    "feature = [\n",
    "'MSSubClass',\n",
    "'LotArea',\n",
    "'Street',\n",
    "'Alley',\n",
    "'Condition1',\n",
    "'Condition2',\n",
    "'BldgType',\n",
    "'HouseStyle',\n",
    "'YearRemodAdd',\n",
    "'GrLivArea',\n",
    "'BsmtFullBath',\n",
    "'BsmtHalfBath',\n",
    "'FullBath',\n",
    "'HalfBath',\n",
    "'KitchenQual',\n",
    "'TotRmsAbvGrd',\n",
    "'Functional',\n",
    "'Fireplaces',\n",
    "'FireplaceQu',\n",
    "'PoolArea']\n",
    "feature"
   ]
  },
  {
   "cell_type": "code",
   "execution_count": null,
   "metadata": {},
   "outputs": [],
   "source": [
    "x_train = train[feature]\n",
    "y_train = train[label]\n",
    "x_train"
   ]
  },
  {
   "cell_type": "markdown",
   "metadata": {},
   "source": [
    "## model import"
   ]
  },
  {
   "cell_type": "code",
   "execution_count": null,
   "metadata": {},
   "outputs": [],
   "source": [
    "from lightgbm import LGBMRegressor\n",
    "from sklearn.model_selection import train_test_split"
   ]
  },
  {
   "cell_type": "markdown",
   "metadata": {},
   "source": [
    "## train/test data split"
   ]
  },
  {
   "cell_type": "code",
   "execution_count": null,
   "metadata": {},
   "outputs": [],
   "source": [
    "x_train_hp, y_train_hp, x_test_hp, y_test_hp = train_test_split()"
   ]
  },
  {
   "cell_type": "code",
   "execution_count": null,
   "metadata": {},
   "outputs": [],
   "source": []
  }
 ],
 "metadata": {
  "kernelspec": {
   "display_name": "Python 3",
   "language": "python",
   "name": "python3"
  },
  "language_info": {
   "codemirror_mode": {
    "name": "ipython",
    "version": 3
   },
   "file_extension": ".py",
   "mimetype": "text/x-python",
   "name": "python",
   "nbconvert_exporter": "python",
   "pygments_lexer": "ipython3",
   "version": "3.7.6"
  }
 },
 "nbformat": 4,
 "nbformat_minor": 4
}
